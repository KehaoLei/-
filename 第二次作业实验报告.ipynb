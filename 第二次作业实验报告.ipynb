{
 "cells": [
  {
   "cell_type": "markdown",
   "metadata": {},
   "source": [
    "# 实验报告 "
   ]
  },
  {
   "cell_type": "markdown",
   "metadata": {},
   "source": [
    "### 一、线性回归处理AirQuality数据集"
   ]
  },
  {
   "cell_type": "markdown",
   "metadata": {},
   "source": [
    "##### 首先读入数据集，首先我将数据集切分为CO真实值，CO传感器测试值，环境温度，相对湿度，绝对湿度的数据集"
   ]
  },
  {
   "cell_type": "code",
   "execution_count": 1,
   "metadata": {},
   "outputs": [],
   "source": [
    "import matplotlib.pyplot as plt\n",
    "%matplotlib inline\n",
    "import numpy as np\n",
    "import pandas as pd\n",
    "from sklearn import datasets, linear_model\n",
    "data = pd.read_csv('AirData.csv')\n",
    "data = data[['CO(GT)', 'PT08.S1(CO)','T','RH','AH']]"
   ]
  },
  {
   "cell_type": "markdown",
   "metadata": {},
   "source": [
    "##### 为了提升回归精度，将少量这个列数为5的矩阵所有含有-200(即无效值)的行去掉，然后将数据集后4列组成的矩阵作为特征矩阵，数据集第一列作为标签向量。"
   ]
  },
  {
   "cell_type": "code",
   "execution_count": 44,
   "metadata": {},
   "outputs": [],
   "source": [
    "data = data[(True^data['CO(GT)'].isin([-200]))&(True^data['T'].isin([-200]))&(True^data['RH'].isin([-200]))&(True^data['AH'].isin([-200]))&(True^data['RH'].isin([-200]))]\n",
    "X = data[[ 'PT08.S1(CO)','T','RH','AH']]#选取CO传感器的值以及三个环境因素作为特征值\n",
    "y = data[['CO(GT)']]#CO的真实值作为目标值\n",
    "from sklearn.model_selection import train_test_split\n",
    "X_train, X_test, y_train, y_test = train_test_split(X, y, test_size=0.4,random_state=1)#划分训练集和测试集"
   ]
  },
  {
   "cell_type": "markdown",
   "metadata": {},
   "source": [
    "###### 使用sklearn库存得到线性回归模型"
   ]
  },
  {
   "cell_type": "code",
   "execution_count": 45,
   "metadata": {},
   "outputs": [
    {
     "data": {
      "text/plain": [
       "LinearRegression(copy_X=True, fit_intercept=True, n_jobs=None, normalize=False)"
      ]
     },
     "execution_count": 45,
     "metadata": {},
     "output_type": "execute_result"
    }
   ],
   "source": [
    "#运行scikit-learn的线性模型\n",
    "from sklearn.linear_model import LinearRegression\n",
    "linreg = LinearRegression()#得到模型\n",
    "linreg.fit(X_train, y_train)"
   ]
  },
  {
   "cell_type": "markdown",
   "metadata": {},
   "source": [
    "##### 线性回归模型的系数"
   ]
  },
  {
   "cell_type": "code",
   "execution_count": 39,
   "metadata": {},
   "outputs": [
    {
     "name": "stdout",
     "output_type": "stream",
     "text": [
      "[-3.631092]\n",
      "[[ 0.00584603 -0.01118106 -0.01064228 -0.0198453 ]]\n"
     ]
    }
   ],
   "source": [
    "print(linreg.intercept_)\n",
    "print(linreg.coef_)"
   ]
  },
  {
   "cell_type": "markdown",
   "metadata": {},
   "source": [
    "##### 用模型拟合测试集，得到均方差(MSE)和均方根差(RMSE)"
   ]
  },
  {
   "cell_type": "code",
   "execution_count": 46,
   "metadata": {},
   "outputs": [
    {
     "name": "stdout",
     "output_type": "stream",
     "text": [
      "MSE: 0.46331379026963926\n",
      "RMSE: 0.6806715729848274\n"
     ]
    }
   ],
   "source": [
    "y_pred = linreg.predict(X_test)\n",
    "from sklearn import metrics\n",
    "print(\"MSE:\",metrics.mean_squared_error(y_test, y_pred))\n",
    "print(\"RMSE:\",np.sqrt(metrics.mean_squared_error(y_test, y_pred)))"
   ]
  },
  {
   "cell_type": "markdown",
   "metadata": {},
   "source": [
    "##### 使用交叉验证，在一定程度上可以预防过拟合"
   ]
  },
  {
   "cell_type": "code",
   "execution_count": 47,
   "metadata": {},
   "outputs": [],
   "source": [
    "X = data[[ 'PT08.S1(CO)','T','RH','AH']]\n",
    "y = data[['CO(GT)']]\n",
    "from sklearn.model_selection import cross_val_predict\n",
    "predicted = cross_val_predict(linreg, X, y, cv=5)"
   ]
  },
  {
   "cell_type": "markdown",
   "metadata": {},
   "source": [
    "###### 可视化结果"
   ]
  },
  {
   "cell_type": "code",
   "execution_count": 48,
   "metadata": {},
   "outputs": [
    {
     "data": {
      "image/png": "[encoded data removed]",
      "text/plain": [
       "<Figure size 432x288 with 1 Axes>"
      ]
     },
     "metadata": {
      "needs_background": "light"
     },
     "output_type": "display_data"
    }
   ],
   "source": [
    "fig, ax = plt.subplots()\n",
    "ax.scatter(y, predicted)\n",
    "ax.plot([y.min(), y.max()], [y.min(), y.max()], 'k--', lw=3)\n",
    "ax.set_xlabel('Measured')\n",
    "ax.set_ylabel('Predicted')\n",
    "plt.show()"
   ]
  },
  {
   "cell_type": "markdown",
   "metadata": {},
   "source": [
    "##### 从可视化结果可以看出位于y = x直线区域的点较为密集，预计模型的预测准确度较好，现用打分函数得到该模型作用于测试集上的准确度"
   ]
  },
  {
   "cell_type": "code",
   "execution_count": 49,
   "metadata": {},
   "outputs": [
    {
     "data": {
      "text/plain": [
       "0.7824488505845825"
      ]
     },
     "execution_count": 49,
     "metadata": {},
     "output_type": "execute_result"
    }
   ],
   "source": [
    "linreg.score(X_test, y_test)"
   ]
  },
  {
   "cell_type": "markdown",
   "metadata": {},
   "source": [
    "##### 后来发现，将测试集的比例test_size适当增大后，准确度有提升，但是不明显。"
   ]
  },
  {
   "cell_type": "markdown",
   "metadata": {},
   "source": [
    "### 二、对BLE_RSSI数据集的分类"
   ]
  },
  {
   "cell_type": "markdown",
   "metadata": {},
   "source": [
    "#### 1、决策树 "
   ]
  },
  {
   "cell_type": "code",
   "execution_count": 3,
   "metadata": {},
   "outputs": [],
   "source": [
    "import matplotlib.pyplot as plt\n",
    "import numpy as np\n",
    "import pandas as pd\n",
    "%matplotlib inline"
   ]
  },
  {
   "cell_type": "markdown",
   "metadata": {},
   "source": [
    "##### 读入数据"
   ]
  },
  {
   "cell_type": "code",
   "execution_count": 4,
   "metadata": {},
   "outputs": [
    {
     "data": {
      "text/html": [
       "<div>\n",
       "<style scoped>\n",
       "    .dataframe tbody tr th:only-of-type {\n",
       "        vertical-align: middle;\n",
       "    }\n",
       "\n",
       "    .dataframe tbody tr th {\n",
       "        vertical-align: top;\n",
       "    }\n",
       "\n",
       "    .dataframe thead th {\n",
       "        text-align: right;\n",
       "    }\n",
       "</style>\n",
       "<table border=\"1\" class=\"dataframe\">\n",
       "  <thead>\n",
       "    <tr style=\"text-align: right;\">\n",
       "      <th></th>\n",
       "      <th>location</th>\n",
       "      <th>date</th>\n",
       "      <th>b3001</th>\n",
       "      <th>b3002</th>\n",
       "      <th>b3003</th>\n",
       "      <th>b3004</th>\n",
       "      <th>b3005</th>\n",
       "      <th>b3006</th>\n",
       "      <th>b3007</th>\n",
       "      <th>b3008</th>\n",
       "      <th>b3009</th>\n",
       "      <th>b3010</th>\n",
       "      <th>b3011</th>\n",
       "      <th>b3012</th>\n",
       "      <th>b3013</th>\n",
       "    </tr>\n",
       "  </thead>\n",
       "  <tbody>\n",
       "    <tr>\n",
       "      <th>0</th>\n",
       "      <td>O02</td>\n",
       "      <td>10-18-2016 11:15:21</td>\n",
       "      <td>-200</td>\n",
       "      <td>-200</td>\n",
       "      <td>-200</td>\n",
       "      <td>-200</td>\n",
       "      <td>-200</td>\n",
       "      <td>-78</td>\n",
       "      <td>-200</td>\n",
       "      <td>-200</td>\n",
       "      <td>-200</td>\n",
       "      <td>-200</td>\n",
       "      <td>-200</td>\n",
       "      <td>-200</td>\n",
       "      <td>-200</td>\n",
       "    </tr>\n",
       "    <tr>\n",
       "      <th>1</th>\n",
       "      <td>P01</td>\n",
       "      <td>10-18-2016 11:15:19</td>\n",
       "      <td>-200</td>\n",
       "      <td>-200</td>\n",
       "      <td>-200</td>\n",
       "      <td>-200</td>\n",
       "      <td>-200</td>\n",
       "      <td>-78</td>\n",
       "      <td>-200</td>\n",
       "      <td>-200</td>\n",
       "      <td>-200</td>\n",
       "      <td>-200</td>\n",
       "      <td>-200</td>\n",
       "      <td>-200</td>\n",
       "      <td>-200</td>\n",
       "    </tr>\n",
       "    <tr>\n",
       "      <th>2</th>\n",
       "      <td>P01</td>\n",
       "      <td>10-18-2016 11:15:17</td>\n",
       "      <td>-200</td>\n",
       "      <td>-200</td>\n",
       "      <td>-200</td>\n",
       "      <td>-200</td>\n",
       "      <td>-200</td>\n",
       "      <td>-77</td>\n",
       "      <td>-200</td>\n",
       "      <td>-200</td>\n",
       "      <td>-200</td>\n",
       "      <td>-200</td>\n",
       "      <td>-200</td>\n",
       "      <td>-200</td>\n",
       "      <td>-200</td>\n",
       "    </tr>\n",
       "  </tbody>\n",
       "</table>\n",
       "</div>"
      ],
      "text/plain": [
       "  location                 date  b3001  b3002  b3003  b3004  b3005  b3006  \\\n",
       "0      O02  10-18-2016 11:15:21   -200   -200   -200   -200   -200    -78   \n",
       "1      P01  10-18-2016 11:15:19   -200   -200   -200   -200   -200    -78   \n",
       "2      P01  10-18-2016 11:15:17   -200   -200   -200   -200   -200    -77   \n",
       "\n",
       "   b3007  b3008  b3009  b3010  b3011  b3012  b3013  \n",
       "0   -200   -200   -200   -200   -200   -200   -200  \n",
       "1   -200   -200   -200   -200   -200   -200   -200  \n",
       "2   -200   -200   -200   -200   -200   -200   -200  "
      ]
     },
     "execution_count": 4,
     "metadata": {},
     "output_type": "execute_result"
    }
   ],
   "source": [
    "data = pd.read_csv('Labeled.csv')\n",
    "data.head(3)"
   ]
  },
  {
   "cell_type": "markdown",
   "metadata": {},
   "source": [
    "##### 由于date也是一个特征，但是无法对标准时间格式直接进行处理，因此这里考虑将date序列化为时间戳\n",
    "##### 可以看到标准时间格式的序列被转化成了一个整形序列，然后再对这个数据集进行处理\n",
    "##### 将数据集后14列切分为特征值矩阵，记为X；\n",
    "##### 将第一列提取为标签列向量，记为y；"
   ]
  },
  {
   "cell_type": "code",
   "execution_count": 5,
   "metadata": {},
   "outputs": [
    {
     "name": "stdout",
     "output_type": "stream",
     "text": [
      "         date  b3001  b3002  b3003  b3004  b3005  b3006  b3007  b3008  b3009  \\\n",
      "0  1476760521   -200   -200   -200   -200   -200    -78   -200   -200   -200   \n",
      "1  1476760519   -200   -200   -200   -200   -200    -78   -200   -200   -200   \n",
      "\n",
      "   b3010  b3011  b3012  b3013  \n",
      "0   -200   -200   -200   -200  \n",
      "1   -200   -200   -200   -200  \n",
      "0    O02\n",
      "1    P01\n",
      "Name: location, dtype: object\n"
     ]
    }
   ],
   "source": [
    "import time\n",
    "data.describe()\n",
    "for i in range(len(data['date'])):\n",
    "    dt = data.loc[i,'date']\n",
    "    timeArray = time.strptime(dt, \"%m-%d-%Y %H:%M:%S\")#Y 必须大写\n",
    "    #转换成时间戳\n",
    "    timestamp = time.mktime(timeArray)\n",
    "    data.loc[i,'date']=timestamp\n",
    "X = data.drop('location', axis=1)#X为包含14个特征值的矩阵\n",
    "y = data.location\n",
    "print(X.head(2))\n",
    "print(y.head(2))"
   ]
  },
  {
   "cell_type": "markdown",
   "metadata": {},
   "source": [
    "##### 如同前例，将X、y划分为训练集与测试集合"
   ]
  },
  {
   "cell_type": "code",
   "execution_count": 6,
   "metadata": {},
   "outputs": [],
   "source": [
    "from sklearn.model_selection import train_test_split\n",
    "X_train, X_test, y_train, y_test = train_test_split(X, y, test_size=0.25,random_state=1)"
   ]
  },
  {
   "cell_type": "markdown",
   "metadata": {},
   "source": [
    "##### 从sklearn中导入决策树模块，基于特征矩阵和标签向量的训练集构建决策树模型。\n",
    "##### 此处先将决策树高度设置为3，可以导出树状图，可以看出觉得树是通过值的范围来划分数据的。\n",
    "##### 但是通过更改决策树的树高发现，树高对预测精度的影响很大，如此处将决策树高度置为3时，测试准度只有5%，\n",
    "##### 但将树高调整为100后，精度达到了41.12%。"
   ]
  },
  {
   "cell_type": "code",
   "execution_count": 8,
   "metadata": {},
   "outputs": [
    {
     "name": "stdout",
     "output_type": "stream",
     "text": [
      "0.05070422535211268\n"
     ]
    },
    {
     "data": {
      "image/png": "[encoded data removed]",
      "text/plain": [
       "<Figure size 432x288 with 1 Axes>"
      ]
     },
     "metadata": {
      "needs_background": "light"
     },
     "output_type": "display_data"
    }
   ],
   "source": [
    "from sklearn import tree\n",
    "clf = tree.DecisionTreeClassifier(max_depth=3)#设置高度为3\n",
    "clf = clf.fit(X_train, y_train)#生成决策树\n",
    "tree = tree.plot_tree(clf)\n",
    "print(clf.score(X_test, y_test))"
   ]
  },
  {
   "cell_type": "code",
   "execution_count": 11,
   "metadata": {},
   "outputs": [
    {
     "data": {
      "text/plain": [
       "0.4140845070422535"
      ]
     },
     "execution_count": 11,
     "metadata": {},
     "output_type": "execute_result"
    }
   ],
   "source": [
    "from sklearn import tree\n",
    "clf = tree.DecisionTreeClassifier(max_depth=100)#更新高度为100\n",
    "clf = clf.fit(X_train, y_train)#生成决策树\n",
    "clf.score(X_test, y_test)"
   ]
  },
  {
   "cell_type": "markdown",
   "metadata": {},
   "source": [
    "#### 2、支持向量机 "
   ]
  },
  {
   "cell_type": "markdown",
   "metadata": {},
   "source": [
    "#### 同样直接导入sklearn中的svm库\n",
    "#### 生成分类器clf"
   ]
  },
  {
   "cell_type": "code",
   "execution_count": 12,
   "metadata": {},
   "outputs": [
    {
     "data": {
      "text/plain": [
       "SVC(C=1.0, cache_size=200, class_weight=None, coef0=0.0,\n",
       "    decision_function_shape='ovo', degree=3, gamma='scale', kernel='rbf',\n",
       "    max_iter=-1, probability=False, random_state=None, shrinking=True,\n",
       "    tol=0.001, verbose=False)"
      ]
     },
     "execution_count": 12,
     "metadata": {},
     "output_type": "execute_result"
    }
   ],
   "source": [
    "from sklearn import svm\n",
    "clf = svm.SVC(gamma='scale', decision_function_shape='ovo')\n",
    "clf.fit(X_train, y_train) "
   ]
  },
  {
   "cell_type": "markdown",
   "metadata": {},
   "source": [
    "##### 得到支持向量\n",
    "##### 即距离超平面最近的向量,支撑着分界面"
   ]
  },
  {
   "cell_type": "code",
   "execution_count": 15,
   "metadata": {},
   "outputs": [
    {
     "data": {
      "text/plain": [
       "array([[ 1.47675870e+09, -2.00000000e+02, -2.00000000e+02, ...,\n",
       "        -2.00000000e+02, -2.00000000e+02, -2.00000000e+02],\n",
       "       [ 1.47425789e+09, -2.00000000e+02, -2.00000000e+02, ...,\n",
       "        -2.00000000e+02, -2.00000000e+02, -2.00000000e+02],\n",
       "       [ 1.47425789e+09, -2.00000000e+02, -2.00000000e+02, ...,\n",
       "        -2.00000000e+02, -2.00000000e+02, -2.00000000e+02],\n",
       "       ...,\n",
       "       [ 1.47675927e+09, -2.00000000e+02, -2.00000000e+02, ...,\n",
       "        -2.00000000e+02, -1.99000000e+02, -6.70000000e+01],\n",
       "       [ 1.46907444e+09, -2.00000000e+02, -2.00000000e+02, ...,\n",
       "        -2.00000000e+02, -2.00000000e+02, -7.50000000e+01],\n",
       "       [ 1.47554939e+09, -2.00000000e+02, -2.00000000e+02, ...,\n",
       "        -2.00000000e+02, -2.00000000e+02, -5.90000000e+01]])"
      ]
     },
     "execution_count": 15,
     "metadata": {},
     "output_type": "execute_result"
    }
   ],
   "source": [
    "clf.support_vectors_"
   ]
  },
  {
   "cell_type": "markdown",
   "metadata": {},
   "source": [
    "##### 用测试集预测准确度"
   ]
  },
  {
   "cell_type": "code",
   "execution_count": 16,
   "metadata": {},
   "outputs": [
    {
     "data": {
      "text/plain": [
       "0.02535211267605634"
      ]
     },
     "execution_count": 16,
     "metadata": {},
     "output_type": "execute_result"
    }
   ],
   "source": [
    "clf.score(X_test, y_test)"
   ]
  },
  {
   "cell_type": "markdown",
   "metadata": {},
   "source": [
    "###### 3、随机森林"
   ]
  },
  {
   "cell_type": "markdown",
   "metadata": {},
   "source": [
    "#### 同样直接导入sklearn中的RandomForestClassifier库\n",
    "#### 生成分类器clf"
   ]
  },
  {
   "cell_type": "code",
   "execution_count": 18,
   "metadata": {},
   "outputs": [],
   "source": [
    "from sklearn.ensemble import RandomForestClassifier\n",
    "clf = RandomForestClassifier(n_estimators=10)\n",
    "clf = clf.fit(X_train, y_train)"
   ]
  },
  {
   "cell_type": "markdown",
   "metadata": {},
   "source": [
    "###### 用测试集预测准确度\n",
    "###### 可以发现随机森林和决策树对该数据集的分类效果较好，而支持向量机的分类效果不太优秀"
   ]
  },
  {
   "cell_type": "code",
   "execution_count": 19,
   "metadata": {},
   "outputs": [
    {
     "data": {
      "text/plain": [
       "0.4056338028169014"
      ]
     },
     "execution_count": 19,
     "metadata": {},
     "output_type": "execute_result"
    }
   ],
   "source": [
    "#用测试集预测准确度\n",
    "clf.score(X_test, y_test)"
   ]
  },
  {
   "cell_type": "markdown",
   "metadata": {},
   "source": [
    "### 二、对BLE_RSSI数据集的分类"
   ]
  },
  {
   "cell_type": "markdown",
   "metadata": {},
   "source": [
    "##### 1、Kmeans\n",
    "##### 首先导入必要的处理包，以及从sklearn中导入KMeans库，以及可视化需要的TSNE库"
   ]
  },
  {
   "cell_type": "code",
   "execution_count": 20,
   "metadata": {},
   "outputs": [],
   "source": [
    "import numpy as np\n",
    "import pandas as pd\n",
    "import matplotlib.pyplot as plt\n",
    "from sklearn.datasets import load_iris\n",
    "from sklearn.preprocessing import MinMaxScaler\n",
    "from sklearn.cluster import KMeans\n",
    "from sklearn.manifold import TSNE"
   ]
  },
  {
   "cell_type": "markdown",
   "metadata": {},
   "source": [
    "##### 读取不含标签的数据集，存入data变量中，等待聚类。\n",
    "##### 由于在聚类算法中，不需要训练过程，因此将数据集的第一列直接剔除，后十四列作为特征矩阵。"
   ]
  },
  {
   "cell_type": "code",
   "execution_count": 22,
   "metadata": {},
   "outputs": [],
   "source": [
    "data = pd.read_csv('Unlabeled.csv')\n",
    "import time\n",
    "data.describe()\n",
    "for i in range(len(data['date'])):\n",
    "    dt = data.loc[i,'date']\n",
    "    timeArray = time.strptime(dt, \"%m-%d-%Y %H:%M:%S\")\n",
    "    #转换成时间戳\n",
    "    timestamp = time.mktime(timeArray)\n",
    "    data.loc[i,'date']=timestamp\n",
    "X = data.drop('location', axis=1)#X为包含14个特征值的矩阵"
   ]
  },
  {
   "cell_type": "markdown",
   "metadata": {},
   "source": [
    "#####  构建Kmeans模型"
   ]
  },
  {
   "cell_type": "code",
   "execution_count": 23,
   "metadata": {},
   "outputs": [
    {
     "data": {
      "text/plain": [
       "KMeans(algorithm='auto', copy_x=True, init='k-means++', max_iter=300,\n",
       "       n_clusters=3, n_init=10, n_jobs=None, precompute_distances='auto',\n",
       "       random_state=123, tol=0.0001, verbose=0)"
      ]
     },
     "execution_count": 23,
     "metadata": {},
     "output_type": "execute_result"
    }
   ],
   "source": [
    "scale = MinMaxScaler().fit(X) \n",
    "X_dataScale = scale.transform(X)\n",
    "kmeans = KMeans(n_clusters=3,random_state=123).fit(X_dataScale)\n",
    "kmeans"
   ]
  },
  {
   "cell_type": "markdown",
   "metadata": {},
   "source": [
    "##### 用TSNE将数据降为三维，将聚类结果进行可视化\n",
    "##### 不幸的是，三类点较为分散，聚类效果不能说较好。"
   ]
  },
  {
   "cell_type": "code",
   "execution_count": 24,
   "metadata": {},
   "outputs": [
    {
     "data": {
      "image/png": "[encoded data removed]",
      "text/plain": [
       "<Figure size 648x432 with 1 Axes>"
      ]
     },
     "metadata": {
      "needs_background": "light"
     },
     "output_type": "display_data"
    }
   ],
   "source": [
    "tsne = TSNE(n_components=3,init='random',random_state=100).fit(X) \n",
    "data = pd.DataFrame(tsne.embedding_)# 将原始数据转换为DataFrame\n",
    "data['labels'] = kmeans.labels_  # 将聚类结果存储进data数据表中\n",
    "data1 = data[data['labels']==0]\n",
    "data2 = data[data['labels']==1]\n",
    "data3 = data[data['labels']==2]\n",
    "fig = plt.figure(figsize=(9,6)) # 绘制图形  设定空白画布，并制定大小\n",
    "plt.plot(data1[0],data1[1],'bo',data2[0],data2[1],'r*',data3[0],data3[1],'gD')\n",
    "plt.show()                  "
   ]
  },
  {
   "cell_type": "markdown",
   "metadata": {},
   "source": [
    "##### 2、DBScan\n",
    "##### 首先导入必要的处理包，以及从sklearn中导入DBSCAN库，以及可视化需要的TSNE库"
   ]
  },
  {
   "cell_type": "code",
   "execution_count": 41,
   "metadata": {},
   "outputs": [
    {
     "data": {
      "text/plain": [
       "pandas.core.frame.DataFrame"
      ]
     },
     "execution_count": 41,
     "metadata": {},
     "output_type": "execute_result"
    }
   ],
   "source": [
    "from sklearn import datasets  \n",
    "import pandas  as pd\n",
    "import matplotlib.pyplot as plt\n",
    "import numpy as np\n",
    "from sklearn.cluster import DBSCAN\n",
    "from sklearn.manifold import TSNE\n",
    "data = pd.read_csv('Unlabeled.csv')\n",
    "data = pd.read_csv('Unlabeled.csv')\n",
    "#把时间转化成时间戳\n",
    "import time\n",
    "data.describe()\n",
    "for i in range(len(data['date'])):\n",
    "    dt = data.loc[i,'date']\n",
    "    timeArray = time.strptime(dt, \"%m-%d-%Y %H:%M:%S\")\n",
    "    #转换成时间戳\n",
    "    timestamp = time.mktime(timeArray)\n",
    "    data.loc[i,'date']=timestamp\n",
    "X = data.drop('location', axis=1)#X为包含14个特征值的矩阵\n",
    "type(X)"
   ]
  },
  {
   "cell_type": "markdown",
   "metadata": {},
   "source": [
    "##### 将数据集从DataFrame格式转化为np.array格式，方便后续处理"
   ]
  },
  {
   "cell_type": "code",
   "execution_count": 42,
   "metadata": {},
   "outputs": [],
   "source": [
    "X=X.values"
   ]
  },
  {
   "cell_type": "markdown",
   "metadata": {},
   "source": [
    "##### 构造聚类器，其中一个参数是聚类半径，一个是聚类密度；\n",
    "##### 然后从聚类器中获取簇(community)数，并提取标签，方便后续可视化；\n",
    "##### 最后获取噪点数，作为参考。"
   ]
  },
  {
   "cell_type": "code",
   "execution_count": 43,
   "metadata": {},
   "outputs": [
    {
     "data": {
      "text/plain": [
       "DBSCAN(algorithm='auto', eps=0.5, leaf_size=30, metric='euclidean',\n",
       "       metric_params=None, min_samples=3, n_jobs=None, p=None)"
      ]
     },
     "execution_count": 43,
     "metadata": {},
     "output_type": "execute_result"
    }
   ],
   "source": [
    "dbscan = DBSCAN(eps=0.5,min_samples=3).fit(X)#构造聚类器,一个参数是半径，一个是密度\n",
    "labels = dbscan.labels_ #获取聚类标签\n",
    "n_clusters_ = len(set(labels)) - (1 if -1 in labels else 0)#获取聚类所得簇数\n",
    "n_noise_ = list(labels).count(-1)#获取噪点数\n",
    "dbscan"
   ]
  },
  {
   "cell_type": "markdown",
   "metadata": {},
   "source": [
    "##### 用TSNE将数据降为三维，将聚类结果进行可视化\n",
    "##### 可以看出，其中一类点聚集于四个不同的位置，其余两类不能清除地观察到\n",
    "##### 聚类效果不能说较好。"
   ]
  },
  {
   "cell_type": "code",
   "execution_count": 44,
   "metadata": {},
   "outputs": [
    {
     "data": {
      "image/png": "[encoded data removed]",
      "text/plain": [
       "<Figure size 432x288 with 1 Axes>"
      ]
     },
     "metadata": {},
     "output_type": "display_data"
    }
   ],
   "source": [
    "tsne = TSNE(n_components=3,init='random',random_state=100).fit(X)\n",
    "labels = dbscan.fit_predict(X)\n",
    "plt.scatter(X[:, 2], X[:, 3], c=labels, s=40, cmap='viridis');"
   ]
  },
  {
   "cell_type": "markdown",
   "metadata": {},
   "source": [
    "##### 3、GMM\n",
    "##### 首先导入必要的处理包，以及从sklearn中导入GaussianMixture库，以及可视化需要的TSNE库\n",
    "##### 并将数据集从DataFrame格式转化为np.array格式，方便后续处理"
   ]
  },
  {
   "cell_type": "code",
   "execution_count": 47,
   "metadata": {},
   "outputs": [],
   "source": [
    "from sklearn import datasets  \n",
    "import pandas  as pd\n",
    "import matplotlib.pyplot as plt\n",
    "import numpy as np\n",
    "from sklearn.manifold import TSNE\n",
    "from sklearn.mixture import GaussianMixture\n",
    "import seaborn as sns; sns.set()\n",
    "data = pd.read_csv('Unlabeled.csv')\n",
    "import time\n",
    "data.describe()\n",
    "for i in range(len(data['date'])):\n",
    "    dt = data.loc[i,'date']\n",
    "    timeArray = time.strptime(dt, \"%m-%d-%Y %H:%M:%S\")\n",
    "    #转换成时间戳\n",
    "    timestamp = time.mktime(timeArray)\n",
    "    data.loc[i,'date']=timestamp\n",
    "X = data.drop('location', axis=1)#X为包含14个特征值的矩阵\n",
    "X=X.values"
   ]
  },
  {
   "cell_type": "markdown",
   "metadata": {},
   "source": [
    "##### 用TSNE将数据降为三维，将聚类结果进行可视化\n",
    "##### 可以看出，其中一类点聚集于四个不同的位置，第二类聚集于三个不同的位置\n",
    "##### 最后一类聚集于右上方\n",
    "##### 聚类效果显然比DBSCAN好"
   ]
  },
  {
   "cell_type": "code",
   "execution_count": 49,
   "metadata": {},
   "outputs": [
    {
     "data": {
      "image/png": "[encoded data removed]",
      "text/plain": [
       "<Figure size 432x288 with 1 Axes>"
      ]
     },
     "metadata": {},
     "output_type": "display_data"
    }
   ],
   "source": [
    "gmm = GaussianMixture(n_components=4).fit(X)\n",
    "tsne = TSNE(n_components=3,init='random',random_state=100).fit(X)\n",
    "labels = gmm.predict(X)\n",
    "plt.scatter(X[:, 2], X[:, 3], c=labels, s=40, cmap='viridis');"
   ]
  },
  {
   "cell_type": "markdown",
   "metadata": {},
   "source": [
    "##### 4、层次聚类  \n",
    "##### 首先导入必要的处理包，以及从sklearn中导入AgglomerativeClustering库，以及可视化需要的TSNE库\n",
    "##### 并将数据集从DataFrame格式转化为np.array格式，方便后续处理"
   ]
  },
  {
   "cell_type": "code",
   "execution_count": 50,
   "metadata": {},
   "outputs": [],
   "source": [
    "from sklearn import datasets  \n",
    "import pandas  as pd\n",
    "import matplotlib.pyplot as plt\n",
    "import numpy as np\n",
    "from sklearn.manifold import TSNE\n",
    "import seaborn as sns; sns.set()\n",
    "data = pd.read_csv('Unlabeled.csv')\n",
    "import time\n",
    "data.describe()\n",
    "for i in range(len(data['date'])):\n",
    "    dt = data.loc[i,'date']\n",
    "    timeArray = time.strptime(dt, \"%m-%d-%Y %H:%M:%S\")\n",
    "    #转换成时间戳\n",
    "    timestamp = time.mktime(timeArray)\n",
    "    data.loc[i,'date']=timestamp\n",
    "X = data.drop('location', axis=1)#X为包含14个特征值的矩阵\n",
    "X=X.values\n",
    "#type(X)"
   ]
  },
  {
   "cell_type": "code",
   "execution_count": 51,
   "metadata": {},
   "outputs": [],
   "source": [
    "from sklearn.cluster import AgglomerativeClustering\n",
    "clustering = AgglomerativeClustering(n_clusters=2, compute_full_tree=True,affinity='euclidean', linkage='complete').fit(X)"
   ]
  },
  {
   "cell_type": "markdown",
   "metadata": {},
   "source": [
    "##### 用TSNE将数据降为三维，将聚类结果进行可视化\n",
    "##### 可以看出，其中一类点聚集于四个不同的位置，第二类聚集于右上方位置\n",
    "##### 第三类不能清晰地观察到\n",
    "##### 聚类效果也不能说较好，但比GMM效果好一点"
   ]
  },
  {
   "cell_type": "code",
   "execution_count": 52,
   "metadata": {},
   "outputs": [
    {
     "data": {
      "image/png": "[encoded data removed]",
      "text/plain": [
       "<Figure size 432x288 with 1 Axes>"
      ]
     },
     "metadata": {},
     "output_type": "display_data"
    }
   ],
   "source": [
    "tsne = TSNE(n_components=3,init='random',random_state=100).fit(X)\n",
    "labels = clustering.fit_predict(X)\n",
    "plt.scatter(X[:, 2], X[:, 3], c=labels, s=40, cmap='viridis');"
   ]
  }
 ],
 "metadata": {
  "kernelspec": {
   "display_name": "Python 3",
   "language": "python",
   "name": "python3"
  },
  "language_info": {
   "codemirror_mode": {
    "name": "ipython",
    "version": 3
   },
   "file_extension": ".py",
   "mimetype": "text/x-python",
   "name": "python",
   "nbconvert_exporter": "python",
   "pygments_lexer": "ipython3",
   "version": "3.7.1rc1"
  }
 },
 "nbformat": 4,
 "nbformat_minor": 2
}
